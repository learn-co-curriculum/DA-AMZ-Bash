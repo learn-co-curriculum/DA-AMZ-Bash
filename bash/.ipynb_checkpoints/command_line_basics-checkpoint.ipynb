{
 "cells": [
  {
   "cell_type": "markdown",
   "metadata": {
    "toc": true
   },
   "source": [
    "<h1>Table of Contents<span class=\"tocSkip\"></span></h1>\n",
    "<div class=\"toc\"><ul class=\"toc-item\"><li><span><a href=\"#Why-Do-I-Need-to-Know-This?\" data-toc-modified-id=\"Why-Do-I-Need-to-Know-This?-1\"><span class=\"toc-item-num\">1&nbsp;&nbsp;</span>Why Do I Need to Know This?</a></span></li><li><span><a href=\"#Navigating\" data-toc-modified-id=\"Navigating-2\"><span class=\"toc-item-num\">2&nbsp;&nbsp;</span>Navigating</a></span><ul class=\"toc-item\"><li><span><a href=\"#Visual-Example\" data-toc-modified-id=\"Visual-Example-2.1\"><span class=\"toc-item-num\">2.1&nbsp;&nbsp;</span>Visual Example</a></span></li><li><span><a href=\"#Commands\" data-toc-modified-id=\"Commands-2.2\"><span class=\"toc-item-num\">2.2&nbsp;&nbsp;</span>Commands</a></span></li></ul></li><li><span><a href=\"#Exploring\" data-toc-modified-id=\"Exploring-3\"><span class=\"toc-item-num\">3&nbsp;&nbsp;</span>Exploring</a></span><ul class=\"toc-item\"><li><span><a href=\"#What's-in-this-file?\" data-toc-modified-id=\"What's-in-this-file?-3.1\"><span class=\"toc-item-num\">3.1&nbsp;&nbsp;</span>What's in this file?</a></span></li></ul></li><li><span><a href=\"#Making-Changes\" data-toc-modified-id=\"Making-Changes-4\"><span class=\"toc-item-num\">4&nbsp;&nbsp;</span>Making Changes</a></span><ul class=\"toc-item\"><li><span><a href=\"#Files-&amp;-Folders\" data-toc-modified-id=\"Files-&amp;-Folders-4.1\"><span class=\"toc-item-num\">4.1&nbsp;&nbsp;</span>Files &amp; Folders</a></span><ul class=\"toc-item\"><li><span><a href=\"#Create\" data-toc-modified-id=\"Create-4.1.1\"><span class=\"toc-item-num\">4.1.1&nbsp;&nbsp;</span>Create</a></span></li><li><span><a href=\"#Reorganize\" data-toc-modified-id=\"Reorganize-4.1.2\"><span class=\"toc-item-num\">4.1.2&nbsp;&nbsp;</span>Reorganize</a></span></li><li><span><a href=\"#Remove----Careful!-Here-be-Dragons!\" data-toc-modified-id=\"Remove----Careful!-Here-be-Dragons!-4.1.3\"><span class=\"toc-item-num\">4.1.3&nbsp;&nbsp;</span>Remove -- Careful! Here be Dragons!</a></span></li></ul></li></ul></li><li><span><a href=\"#Extras\" data-toc-modified-id=\"Extras-5\"><span class=\"toc-item-num\">5&nbsp;&nbsp;</span>Extras</a></span></li></ul></div>"
   ]
  },
  {
   "cell_type": "markdown",
   "metadata": {
    "heading_collapsed": true
   },
   "source": [
    "# Why Do I Need to Know This?"
   ]
  },
  {
   "cell_type": "markdown",
   "metadata": {
    "hidden": true
   },
   "source": [
    "Navigating by remoting into cloud server (most are Linux/Unix-based)"
   ]
  },
  {
   "cell_type": "markdown",
   "metadata": {
    "heading_collapsed": true
   },
   "source": [
    "# Navigating"
   ]
  },
  {
   "cell_type": "markdown",
   "metadata": {
    "hidden": true
   },
   "source": [
    "Hierarchical structure\n",
    "\n",
    "**\"Directory\"** == folder"
   ]
  },
  {
   "cell_type": "markdown",
   "metadata": {
    "hidden": true
   },
   "source": [
    "`/` : Also called \"root\" (top-level) directory\n",
    "\n",
    "`~` : Home directory (typically where you start off)\n",
    "\n",
    "`.` : Current directory\n",
    "\n",
    "`..` : Directory above\n",
    "\n",
    "`*` : wildcard"
   ]
  },
  {
   "cell_type": "markdown",
   "metadata": {
    "heading_collapsed": true,
    "hidden": true
   },
   "source": [
    "## Visual Example"
   ]
  },
  {
   "cell_type": "markdown",
   "metadata": {
    "hidden": true
   },
   "source": [
    "<img src='https://www.madfientist.com/wp-content/uploads/2018/01/meaning-of-life.png'/>\n",
    "<img src='https://nyashacharumbiratheitguy.files.wordpress.com/2017/02/d0c50-linux2bfile2bsystem2bhierarchy.jpg'/>"
   ]
  },
  {
   "cell_type": "markdown",
   "metadata": {
    "heading_collapsed": true,
    "hidden": true
   },
   "source": [
    "## Commands"
   ]
  },
  {
   "cell_type": "markdown",
   "metadata": {
    "hidden": true
   },
   "source": [
    "* `pwd`: Where am I?\n",
    "* `cd` : Move to here"
   ]
  },
  {
   "cell_type": "markdown",
   "metadata": {
    "heading_collapsed": true
   },
   "source": [
    "# Exploring"
   ]
  },
  {
   "cell_type": "markdown",
   "metadata": {
    "hidden": true
   },
   "source": [
    "* `ls`: What's in here?"
   ]
  },
  {
   "cell_type": "markdown",
   "metadata": {
    "heading_collapsed": true,
    "hidden": true
   },
   "source": [
    "## What's in this file?"
   ]
  },
  {
   "cell_type": "markdown",
   "metadata": {
    "hidden": true
   },
   "source": [
    "* `echo`: prints text to screen\n",
    "* `head`: first part of file\n",
    "* `more`/`less`: part of file plus some\n",
    "* `nano` : editor on most systems\n",
    "* `vi` : personal favorite editor (down with emacs!)\n",
    "* `cat`: can read (also write given some tricks)"
   ]
  },
  {
   "cell_type": "markdown",
   "metadata": {
    "heading_collapsed": true
   },
   "source": [
    "# Making Changes"
   ]
  },
  {
   "cell_type": "markdown",
   "metadata": {
    "heading_collapsed": true,
    "hidden": true
   },
   "source": [
    "## Files & Folders"
   ]
  },
  {
   "cell_type": "markdown",
   "metadata": {
    "heading_collapsed": true,
    "hidden": true
   },
   "source": [
    "### Create"
   ]
  },
  {
   "cell_type": "markdown",
   "metadata": {
    "hidden": true
   },
   "source": [
    "* `mkdir`: Make a directory\n",
    "* `touch`: Create an empty file\n",
    "* `cp` : Copy a dir/file\n",
    "* `cat`: can write to another file with append operators (`>` and `>>`)"
   ]
  },
  {
   "cell_type": "markdown",
   "metadata": {
    "heading_collapsed": true,
    "hidden": true
   },
   "source": [
    "### Reorganize"
   ]
  },
  {
   "cell_type": "markdown",
   "metadata": {
    "hidden": true
   },
   "source": [
    "* `mv` : Move a dir/file"
   ]
  },
  {
   "cell_type": "markdown",
   "metadata": {
    "heading_collapsed": true,
    "hidden": true
   },
   "source": [
    "### Remove -- Careful! Here be Dragons!"
   ]
  },
  {
   "cell_type": "markdown",
   "metadata": {
    "hidden": true
   },
   "source": [
    "* `rm`: No confirmation delete!"
   ]
  },
  {
   "cell_type": "markdown",
   "metadata": {
    "heading_collapsed": true
   },
   "source": [
    "# Extras"
   ]
  },
  {
   "cell_type": "markdown",
   "metadata": {
    "hidden": true
   },
   "source": [
    "* `man`: get help on a command\n",
    "* `ssh`:  into somewhere else (another computer)"
   ]
  },
  {
   "cell_type": "markdown",
   "metadata": {
    "hidden": true
   },
   "source": [
    "Remember the options/flags!"
   ]
  }
 ],
 "metadata": {
  "kernelspec": {
   "display_name": "Python 3",
   "language": "python",
   "name": "python3"
  },
  "language_info": {
   "codemirror_mode": {
    "name": "ipython",
    "version": 3
   },
   "file_extension": ".py",
   "mimetype": "text/x-python",
   "name": "python",
   "nbconvert_exporter": "python",
   "pygments_lexer": "ipython3",
   "version": "3.8.5"
  },
  "toc": {
   "base_numbering": 1,
   "nav_menu": {},
   "number_sections": true,
   "sideBar": false,
   "skip_h1_title": false,
   "title_cell": "Table of Contents",
   "title_sidebar": "Contents",
   "toc_cell": true,
   "toc_position": {},
   "toc_section_display": false,
   "toc_window_display": false
  },
  "varInspector": {
   "cols": {
    "lenName": 16,
    "lenType": 16,
    "lenVar": 40
   },
   "kernels_config": {
    "python": {
     "delete_cmd_postfix": "",
     "delete_cmd_prefix": "del ",
     "library": "var_list.py",
     "varRefreshCmd": "print(var_dic_list())"
    },
    "r": {
     "delete_cmd_postfix": ") ",
     "delete_cmd_prefix": "rm(",
     "library": "var_list.r",
     "varRefreshCmd": "cat(var_dic_list()) "
    }
   },
   "types_to_exclude": [
    "module",
    "function",
    "builtin_function_or_method",
    "instance",
    "_Feature"
   ],
   "window_display": false
  }
 },
 "nbformat": 4,
 "nbformat_minor": 2
}
